{
  "nbformat": 4,
  "nbformat_minor": 0,
  "metadata": {
    "colab": {
      "name": "loading.ipynb",
      "provenance": [],
      "include_colab_link": true
    },
    "kernelspec": {
      "display_name": "Python 3",
      "name": "python3"
    }
  },
  "cells": [
    {
      "cell_type": "markdown",
      "metadata": {
        "id": "view-in-github",
        "colab_type": "text"
      },
      "source": [
        "<a href=\"https://colab.research.google.com/github/kasunvid/neural/blob/main/loading.ipynb\" target=\"_parent\"><img src=\"https://colab.research.google.com/assets/colab-badge.svg\" alt=\"Open In Colab\"/></a>"
      ]
    },
    {
      "cell_type": "code",
      "metadata": {
        "id": "vooyy1hA1_bI"
      },
      "source": [
        "import tensorflow as tf\n",
        "import numpy as np\n",
        "from tensorflow import keras"
      ],
      "execution_count": 1,
      "outputs": []
    },
    {
      "cell_type": "code",
      "metadata": {
        "id": "SyJP9mdsThD1",
        "outputId": "61b3e11d-0a38-4ebb-8027-bd83a9209079",
        "colab": {
          "base_uri": "https://localhost:8080/"
        }
      },
      "source": [
        "from google.colab import drive\n",
        "drive.mount('/content/drive')"
      ],
      "execution_count": 2,
      "outputs": [
        {
          "output_type": "stream",
          "text": [
            "Mounted at /content/drive\n"
          ],
          "name": "stdout"
        }
      ]
    },
    {
      "cell_type": "code",
      "metadata": {
        "id": "wAT8dltK2Tlf",
        "colab": {
          "base_uri": "https://localhost:8080/"
        },
        "outputId": "9c9ef0d2-92af-41d3-ffb4-3e71fac7537a"
      },
      "source": [
        "%cd drive/MyDrive/neural1/gdrive/MyDrive/neural1/save_model \n",
        "!ls"
      ],
      "execution_count": 8,
      "outputs": [
        {
          "output_type": "stream",
          "text": [
            "/content/drive/MyDrive/neural1/gdrive/MyDrive/neural1/save_model\n",
            "assets\tsaved_model.pb\tvariables\n"
          ],
          "name": "stdout"
        }
      ]
    },
    {
      "cell_type": "code",
      "metadata": {
        "id": "3Bg1PLvPEnVD"
      },
      "source": [
        "# get output from loaded tensorboard and display\n",
        "# %load_ext tensorboard\n",
        "# %tensorboard --logdir logs"
      ],
      "execution_count": 9,
      "outputs": []
    },
    {
      "cell_type": "code",
      "metadata": {
        "id": "arh1xtr_2Zhn",
        "colab": {
          "base_uri": "https://localhost:8080/"
        },
        "outputId": "80f91873-dc7d-4dfa-8517-316408f18dbd"
      },
      "source": [
        "#load model\n",
        "!ls\n",
        "new_model = tf.keras.models.load_model('')"
      ],
      "execution_count": 10,
      "outputs": [
        {
          "output_type": "stream",
          "text": [
            "assets\tsaved_model.pb\tvariables\n"
          ],
          "name": "stdout"
        }
      ]
    },
    {
      "cell_type": "code",
      "metadata": {
        "id": "9XxiCRyU2oL2"
      },
      "source": [
        "#input sample data to check prediction\n",
        "sample = {\n",
        "    \"duration\"           : 10,\n",
        "    \"protocol_type\"      : 'icmp', \n",
        "    \"service\"            : 'ecr_i', \n",
        "    \"src_bytes\"          : 'SF', \n",
        "    \"dst_bytes\"          : 1, \n",
        "    \"flag\"               : 0, \n",
        "    \"land\"               : 0, \n",
        "    'wrong_fragment'     : 0,\n",
        "    'urgent'             : 0,\n",
        "    'hot'                : 0,\n",
        "    'num_failed_logins'  : 0,\n",
        "    'logged_in'          : 0,\n",
        "    'num_compromised'    : 0,\n",
        "    'root_shell'         : 0,\n",
        "    'su_attempted'       : 0,    \n",
        "    'num_root'           : 0,\n",
        "    'num_file_creations' : 1,\n",
        "    'num_shells'         : 0,\n",
        "    'num_access_files'   : 0,\n",
        "    'num_outbound_cmds'  : 0,\n",
        "    'is_hot_login'       : 0,\n",
        "    'is_guest_login'     : 0,\n",
        "    'count'              : 1,\n",
        "    'serror_rate'        : 0,\n",
        "    'rerror_rate'        : 0,\n",
        "    'same_srv_rate'      : 0,\n",
        "    'diff_srv_rate'      : 0,\n",
        "    'srv_count'          : 0,\n",
        "    'srv_serror_rate'    : 0,\n",
        "    'srv_rerror_rate'    : 0,\n",
        "    'srv_diff_host_rate' : 1,\n",
        "    'unknown_data1'      : 0,\n",
        "    'unknown_data2'      : 0,\n",
        "    'unknown_data3'      : 0,\n",
        "    'unknown_data4'      : 0,\n",
        "    'unknown_data5'      : 0,\n",
        "    'unknown_data6'      : 0,\n",
        "    'unknown_data7'      : 0,\n",
        "    'unknown_data8'      : 0,\n",
        "    'unknown_data9'      : 0,\n",
        "    'unknown_data10'     : 0,\n",
        "#     'results'            : 0,\n",
        "}\n"
      ],
      "execution_count": 11,
      "outputs": []
    },
    {
      "cell_type": "code",
      "metadata": {
        "colab": {
          "base_uri": "https://localhost:8080/"
        },
        "id": "AcA726Ze2x--",
        "outputId": "477544eb-e940-4c8b-f1e3-6f68a0864147"
      },
      "source": [
        "#predicted output\n",
        "def pre():\n",
        "  # convertig the sample into tensors\n",
        "  input_dict = {name: tf.convert_to_tensor([value]) for name, value in sample.items()}\n",
        "  # calling the predicrt function to predict the data and pass to the array array size 1\n",
        "  predictions = new_model.predict(input_dict)\n",
        "  print(predictions)\n",
        "\n",
        "# %timeit pre()\n",
        "\n",
        "pre()"
      ],
      "execution_count": 12,
      "outputs": [
        {
          "output_type": "stream",
          "text": [
            "/usr/local/lib/python3.7/dist-packages/tensorflow/python/keras/engine/functional.py:595: UserWarning: Input dict contained keys ['unknown_data1', 'unknown_data2', 'unknown_data3', 'unknown_data4', 'unknown_data5', 'unknown_data6', 'unknown_data7', 'unknown_data8', 'unknown_data9', 'unknown_data10'] which did not match any model input. They will be ignored by the model.\n",
            "  [n for n in tensors.keys() if n not in ref_input_names])\n"
          ],
          "name": "stderr"
        },
        {
          "output_type": "stream",
          "text": [
            "[[0.55243516]]\n"
          ],
          "name": "stdout"
        }
      ]
    },
    {
      "cell_type": "code",
      "metadata": {
        "id": "I5jrzGOL7pJV"
      },
      "source": [
        "pip freeze > requirements.txt"
      ],
      "execution_count": 13,
      "outputs": []
    },
    {
      "cell_type": "code",
      "metadata": {
        "id": "rafPq25hEqYm"
      },
      "source": [
        ""
      ],
      "execution_count": null,
      "outputs": []
    },
    {
      "cell_type": "markdown",
      "metadata": {
        "id": "Tc54yLCqEsgj"
      },
      "source": [
        "# New Section"
      ]
    }
  ]
}